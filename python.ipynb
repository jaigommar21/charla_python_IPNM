{
  "nbformat": 4,
  "nbformat_minor": 0,
  "metadata": {
    "colab": {
      "name": "python.ipynb",
      "provenance": [],
      "collapsed_sections": []
    },
    "kernelspec": {
      "name": "python3",
      "display_name": "Python 3"
    }
  },
  "cells": [
    {
      "cell_type": "markdown",
      "metadata": {
        "id": "KQMtagSfaCCR"
      },
      "source": [
        "# **Aprendamos Python**\n",
        "\n",
        "## ¿Qué es un lenguaje de programación?\n",
        "Un lenguaje de programación es una serie de instrucciones, las cuales permiten a un programador escribir secuencias de órdenes para controlar el comportamiento físico y lógico de una computadora\n",
        "\n",
        "Algunos de los lenguajes mas populares en los últimos tiempos son Python, Java, C++, JavaScript y PHP.\n",
        "\n",
        "## ¿Por qué Python?\n",
        "Elegimos Python porque es uno de los lenguajes de programación con reglas más simples e intuitivas que existen; esto explica la creciente popularidad que ha tenido en los ultimos tiempos.\n",
        "\n"
      ]
    },
    {
      "cell_type": "markdown",
      "metadata": {
        "id": "HCr-wy5gpBOr"
      },
      "source": [
        "### 1.- Función **print()** :\n",
        "\n"
      ]
    },
    {
      "cell_type": "code",
      "metadata": {
        "id": "0iDuCCiUpQ0b",
        "colab": {
          "base_uri": "https://localhost:8080/"
        },
        "outputId": "d86897ad-1875-4906-e925-d5dd44d7d251"
      },
      "source": [
        "print(\"Hola Mundo\")"
      ],
      "execution_count": 4,
      "outputs": [
        {
          "output_type": "stream",
          "name": "stdout",
          "text": [
            "Hola Mundo\n"
          ]
        }
      ]
    },
    {
      "cell_type": "markdown",
      "metadata": {
        "id": "RDWBIJ3Ipalq"
      },
      "source": [
        "### 2,- Concatenar cadenas"
      ]
    },
    {
      "cell_type": "code",
      "metadata": {
        "id": "3BpQnG5LEo-H",
        "colab": {
          "base_uri": "https://localhost:8080/"
        },
        "outputId": "9c0e17d4-a8a9-409d-833b-e241749a0587"
      },
      "source": [
        "nombre = \"Jaime\" \n",
        "apellido_paterno = \"Gomez\"\n",
        "\n",
        "print(f\"Mi nombre es {nombre}\")\n",
        "print(f\"Mi nombre es {nombre} y mi apellido es {apellido_paterno}\")"
      ],
      "execution_count": null,
      "outputs": [
        {
          "output_type": "stream",
          "name": "stdout",
          "text": [
            "Mi nombre es Jaime\n",
            "Mi nombre es Jaime y mi apellido es Gomez\n"
          ]
        }
      ]
    },
    {
      "cell_type": "code",
      "metadata": {
        "colab": {
          "base_uri": "https://localhost:8080/"
        },
        "cellView": "form",
        "id": "eYtNleSNk3RJ",
        "outputId": "4963a819-df11-4a82-aa68-2cd16cd30e88"
      },
      "source": [
        "#@title Ingresa tus datos\n",
        "nombre = \"Jaime\"              #@param {type:\"string\"}\n",
        "apellido_paterno = \"Gomez\"    #@param {type:\"string\"}\n",
        "\n",
        "print(f\"Mi nombre es {nombre}\")\n",
        "print(f\"Mi nombre es {nombre} y mi apellido es {apellido_paterno}\")"
      ],
      "execution_count": null,
      "outputs": [
        {
          "output_type": "stream",
          "name": "stdout",
          "text": [
            "Mi nombre es Jaime\n",
            "Mi nombre es Jaime y mi apellido es Gomez\n"
          ]
        }
      ]
    },
    {
      "cell_type": "code",
      "metadata": {
        "id": "aAO9I0PLQqiJ",
        "colab": {
          "base_uri": "https://localhost:8080/"
        },
        "outputId": "214c1e19-cf92-4f19-c582-49d9d3452bc6"
      },
      "source": [
        "nombre = \"Juan\"  # defino una cadena\n",
        "edad = 29        # defino un número\n",
        "monedero = 10.5  # cuanto dinero tengo\n",
        "\n",
        "print(f\"Me llamo {nombre}, tengo {edad} y solo tengo {monedero} soles\")\n",
        "\n"
      ],
      "execution_count": null,
      "outputs": [
        {
          "output_type": "stream",
          "name": "stdout",
          "text": [
            "Me llamo Juan, tengo 29 y solo tengo 10.5 soles\n"
          ]
        }
      ]
    },
    {
      "cell_type": "code",
      "metadata": {
        "id": "c8WVSr0KNPR0",
        "colab": {
          "base_uri": "https://localhost:8080/"
        },
        "outputId": "92d60361-d478-45f3-b976-77bafdcbf3a1"
      },
      "source": [
        "#@title Ingresa tus datos\n",
        "nombre = \"Juan\"  #@param {type:\"string\"}\n",
        "edad = 29        #@param {type:\"integer\"}\n",
        "monedero = 10.7  #@param {type:\"number\"}\n",
        "\n",
        "print(f\"Me llamo {nombre}, tengo {edad} y solo tengo {monedero} soles\")\n",
        "\n"
      ],
      "execution_count": null,
      "outputs": [
        {
          "output_type": "stream",
          "name": "stdout",
          "text": [
            "Me llamo Juan, tengo 29 y solo tengo 10.7 soles\n"
          ]
        }
      ]
    },
    {
      "cell_type": "markdown",
      "metadata": {
        "id": "YNBLZvQHm70k"
      },
      "source": [
        "### 4,- Operadores Artiméticos\n"
      ]
    },
    {
      "cell_type": "code",
      "metadata": {
        "colab": {
          "base_uri": "https://localhost:8080/"
        },
        "id": "AhVDAinhnTzz",
        "outputId": "e81e0aeb-ac9d-48d3-ab48-4a9e9095cbb1"
      },
      "source": [
        "x = 5\n",
        "y = 2\n",
        "suma = x + y\n",
        "resta = x - y\n",
        "multi = x * y\n",
        "div = x / y\n",
        "div_entera = x//y \n",
        "div_resto = x%y\n",
        "potencia = x**y\n",
        "print(f\"{x} + {y} es {suma}\")\n",
        "print(f\"{x} - {y} es {resta}\")\n",
        "print(f\"{x} x {y} es {multi}\")\n",
        "print(f\"{x} / {y} es {div}\")\n",
        "print(f\"{x} / {y} el cociente es {div_entera}\")\n",
        "print(f\"{x} / {y} el resto es {div_resto}\")\n",
        "print(f\"{x} elevado a {y} es {potencia}\")"
      ],
      "execution_count": null,
      "outputs": [
        {
          "output_type": "stream",
          "name": "stdout",
          "text": [
            "5 + 2 es 7\n",
            "5 - 2 es 3\n",
            "5 x 2 es 10\n",
            "5 / 2 es 2.5\n",
            "5 / 2 el cociente es 2\n",
            "5 / 2 el resto es 1\n",
            "5 elevado a 2 es 25\n"
          ]
        }
      ]
    },
    {
      "cell_type": "markdown",
      "metadata": {
        "id": "R1c2p6rEpEi1"
      },
      "source": [
        "## Ejercicio : Calcular la suma de una progresión aritmética\n",
        "\n",
        "$$\\displaystyle\\sum_{i=1}^{n}a_i = \\frac{n(a_1+a_n)}{2}$$\n",
        "\n",
        "Donde $n$ es el número determinnos, $a_1$ es el primer término y $a_n$ es el último término"
      ]
    },
    {
      "cell_type": "code",
      "metadata": {
        "colab": {
          "base_uri": "https://localhost:8080/"
        },
        "id": "zGr5ffJ3pDG7",
        "outputId": "b0773a41-b88e-4b6e-d8bf-1adc0fc022bd"
      },
      "source": [
        "a1 = 1\n",
        "razon = 1\n",
        "n = 10\n",
        "\n",
        "# Calculamos el termino final\n",
        "an = a1 + (n-1)*razon\n",
        "\n",
        "# Calculamos la sumatoria\n",
        "sumatoria = ((a1+an)*n)/2\n",
        "\n",
        "print(f\"La sumatoria es {sumatoria}\")\n"
      ],
      "execution_count": null,
      "outputs": [
        {
          "output_type": "stream",
          "name": "stdout",
          "text": [
            "La sumatoria es 55.0\n"
          ]
        }
      ]
    },
    {
      "cell_type": "code",
      "metadata": {
        "colab": {
          "base_uri": "https://localhost:8080/"
        },
        "id": "wdUlNgJstL0J",
        "outputId": "118a9514-f7b4-40fb-f37e-cb738f3aac6b"
      },
      "source": [
        "#@title Progresión Aritmética\n",
        "primer_elemento = 1       #@param {type:\"integer\"}\n",
        "razon = 2                 #@param {type:\"integer\"}\n",
        "nro_elementos = 10        #@param {type:\"integer\"}\n",
        "\n",
        "# Calculamos el termino final\n",
        "ultimo_elemento = primer_elemento + (nro_elementos-1)*razon\n",
        "\n",
        "# Calculamos la sumatoria\n",
        "sumatoria = ((primer_elemento+ultimo_elemento)*nro_elementos)/2\n",
        "\n",
        "print(f\"La sumatoria es {sumatoria}\")"
      ],
      "execution_count": 3,
      "outputs": [
        {
          "output_type": "stream",
          "name": "stdout",
          "text": [
            "La sumatoria es 100.0\n"
          ]
        }
      ]
    }
  ]
}